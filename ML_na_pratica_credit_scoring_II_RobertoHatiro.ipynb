{
  "cells": [
    {
      "cell_type": "markdown",
      "metadata": {
        "id": "view-in-github",
        "colab_type": "text"
      },
      "source": [
        "<a href=\"https://colab.research.google.com/github/rhatiro/ML_na_pratica-credit_scoring/blob/main/ML_na_pratica_credit_scoring_II_RobertoHatiro.ipynb\" target=\"_parent\"><img src=\"https://colab.research.google.com/assets/colab-badge.svg\" alt=\"Open In Colab\"/></a>"
      ]
    },
    {
      "cell_type": "markdown",
      "id": "447e5cde",
      "metadata": {
        "id": "447e5cde"
      },
      "source": [
        "# Base de dados:\n",
        "\n",
        " ```credit_scoring_II.csv```"
      ]
    },
    {
      "cell_type": "markdown",
      "id": "2a168c25",
      "metadata": {
        "id": "2a168c25"
      },
      "source": [
        "# Autor:\n",
        "### *Roberto Hatiro*"
      ]
    },
    {
      "cell_type": "markdown",
      "id": "6c6c45a5",
      "metadata": {
        "id": "6c6c45a5"
      },
      "source": [
        "## Importação das bibliotecas:"
      ]
    },
    {
      "cell_type": "code",
      "execution_count": null,
      "id": "da97c2b8",
      "metadata": {
        "id": "da97c2b8"
      },
      "outputs": [],
      "source": [
        "import pandas as pd\n",
        "import matplotlib.pyplot as plt\n",
        "import numpy as np\n",
        "\n",
        "import seaborn as sns\n",
        "\n",
        "from sklearn import metrics\n",
        "from sklearn.model_selection import train_test_split\n",
        "from sklearn.ensemble import RandomForestRegressor\n",
        "from sklearn.tree import DecisionTreeClassifier\n",
        "\n",
        "from sklearn.model_selection import GridSearchCV\n",
        "from scipy.stats import ks_2samp"
      ]
    },
    {
      "cell_type": "markdown",
      "id": "d7009f9b",
      "metadata": {
        "id": "d7009f9b"
      },
      "source": [
        "## 1. Planejamento"
      ]
    },
    {
      "cell_type": "markdown",
      "id": "1b3c7ac8",
      "metadata": {
        "id": "1b3c7ac8"
      },
      "source": [
        "## 2. Revisão dos dados e parâmetros do projeto"
      ]
    },
    {
      "cell_type": "markdown",
      "id": "a75985b0",
      "metadata": {
        "id": "a75985b0"
      },
      "source": [
        "## 3. Construção da base de desenvolvimento"
      ]
    },
    {
      "cell_type": "code",
      "execution_count": null,
      "id": "626e8e32",
      "metadata": {
        "scrolled": true,
        "id": "626e8e32",
        "outputId": "501c42fd-ee27-4762-cfff-b1c9412fa17e"
      },
      "outputs": [
        {
          "data": {
            "text/html": [
              "<div>\n",
              "<style scoped>\n",
              "    .dataframe tbody tr th:only-of-type {\n",
              "        vertical-align: middle;\n",
              "    }\n",
              "\n",
              "    .dataframe tbody tr th {\n",
              "        vertical-align: top;\n",
              "    }\n",
              "\n",
              "    .dataframe thead th {\n",
              "        text-align: right;\n",
              "    }\n",
              "</style>\n",
              "<table border=\"1\" class=\"dataframe\">\n",
              "  <thead>\n",
              "    <tr style=\"text-align: right;\">\n",
              "      <th></th>\n",
              "      <th>data_ref</th>\n",
              "      <th>id_cliente</th>\n",
              "      <th>sexo</th>\n",
              "      <th>posse_de_veiculo</th>\n",
              "      <th>posse_de_imovel</th>\n",
              "      <th>qtd_filhos</th>\n",
              "      <th>tipo_renda</th>\n",
              "      <th>educacao</th>\n",
              "      <th>estado_civil</th>\n",
              "      <th>tipo_residencia</th>\n",
              "      <th>idade</th>\n",
              "      <th>tempo_emprego</th>\n",
              "      <th>qt_pessoas_residencia</th>\n",
              "      <th>renda</th>\n",
              "      <th>mau</th>\n",
              "    </tr>\n",
              "  </thead>\n",
              "  <tbody>\n",
              "    <tr>\n",
              "      <th>0</th>\n",
              "      <td>2015-01-01</td>\n",
              "      <td>1</td>\n",
              "      <td>F</td>\n",
              "      <td>N</td>\n",
              "      <td>N</td>\n",
              "      <td>0</td>\n",
              "      <td>Empresário</td>\n",
              "      <td>Médio</td>\n",
              "      <td>Solteiro</td>\n",
              "      <td>Casa</td>\n",
              "      <td>43</td>\n",
              "      <td>6.873973</td>\n",
              "      <td>1.0</td>\n",
              "      <td>2515.39</td>\n",
              "      <td>0</td>\n",
              "    </tr>\n",
              "    <tr>\n",
              "      <th>1</th>\n",
              "      <td>2015-01-01</td>\n",
              "      <td>2</td>\n",
              "      <td>F</td>\n",
              "      <td>S</td>\n",
              "      <td>S</td>\n",
              "      <td>0</td>\n",
              "      <td>Assalariado</td>\n",
              "      <td>Médio</td>\n",
              "      <td>Casado</td>\n",
              "      <td>Casa</td>\n",
              "      <td>35</td>\n",
              "      <td>4.526027</td>\n",
              "      <td>2.0</td>\n",
              "      <td>3180.19</td>\n",
              "      <td>0</td>\n",
              "    </tr>\n",
              "    <tr>\n",
              "      <th>2</th>\n",
              "      <td>2015-01-01</td>\n",
              "      <td>3</td>\n",
              "      <td>F</td>\n",
              "      <td>N</td>\n",
              "      <td>N</td>\n",
              "      <td>2</td>\n",
              "      <td>Assalariado</td>\n",
              "      <td>Médio</td>\n",
              "      <td>Casado</td>\n",
              "      <td>Casa</td>\n",
              "      <td>31</td>\n",
              "      <td>0.243836</td>\n",
              "      <td>4.0</td>\n",
              "      <td>1582.29</td>\n",
              "      <td>0</td>\n",
              "    </tr>\n",
              "    <tr>\n",
              "      <th>3</th>\n",
              "      <td>2015-01-01</td>\n",
              "      <td>4</td>\n",
              "      <td>F</td>\n",
              "      <td>N</td>\n",
              "      <td>N</td>\n",
              "      <td>0</td>\n",
              "      <td>Assalariado</td>\n",
              "      <td>Médio</td>\n",
              "      <td>Casado</td>\n",
              "      <td>Casa</td>\n",
              "      <td>54</td>\n",
              "      <td>12.772603</td>\n",
              "      <td>2.0</td>\n",
              "      <td>13721.17</td>\n",
              "      <td>0</td>\n",
              "    </tr>\n",
              "    <tr>\n",
              "      <th>4</th>\n",
              "      <td>2015-01-01</td>\n",
              "      <td>5</td>\n",
              "      <td>F</td>\n",
              "      <td>S</td>\n",
              "      <td>N</td>\n",
              "      <td>0</td>\n",
              "      <td>Assalariado</td>\n",
              "      <td>Superior incompleto</td>\n",
              "      <td>Solteiro</td>\n",
              "      <td>Casa</td>\n",
              "      <td>31</td>\n",
              "      <td>8.432877</td>\n",
              "      <td>1.0</td>\n",
              "      <td>2891.08</td>\n",
              "      <td>1</td>\n",
              "    </tr>\n",
              "    <tr>\n",
              "      <th>...</th>\n",
              "      <td>...</td>\n",
              "      <td>...</td>\n",
              "      <td>...</td>\n",
              "      <td>...</td>\n",
              "      <td>...</td>\n",
              "      <td>...</td>\n",
              "      <td>...</td>\n",
              "      <td>...</td>\n",
              "      <td>...</td>\n",
              "      <td>...</td>\n",
              "      <td>...</td>\n",
              "      <td>...</td>\n",
              "      <td>...</td>\n",
              "      <td>...</td>\n",
              "      <td>...</td>\n",
              "    </tr>\n",
              "    <tr>\n",
              "      <th>749995</th>\n",
              "      <td>2016-03-01</td>\n",
              "      <td>749996</td>\n",
              "      <td>M</td>\n",
              "      <td>N</td>\n",
              "      <td>S</td>\n",
              "      <td>0</td>\n",
              "      <td>Empresário</td>\n",
              "      <td>Superior completo</td>\n",
              "      <td>Casado</td>\n",
              "      <td>Casa</td>\n",
              "      <td>48</td>\n",
              "      <td>3.038356</td>\n",
              "      <td>2.0</td>\n",
              "      <td>2109.99</td>\n",
              "      <td>0</td>\n",
              "    </tr>\n",
              "    <tr>\n",
              "      <th>749996</th>\n",
              "      <td>2016-03-01</td>\n",
              "      <td>749997</td>\n",
              "      <td>F</td>\n",
              "      <td>N</td>\n",
              "      <td>S</td>\n",
              "      <td>0</td>\n",
              "      <td>Pensionista</td>\n",
              "      <td>Médio</td>\n",
              "      <td>Solteiro</td>\n",
              "      <td>Casa</td>\n",
              "      <td>65</td>\n",
              "      <td>NaN</td>\n",
              "      <td>1.0</td>\n",
              "      <td>1389.39</td>\n",
              "      <td>0</td>\n",
              "    </tr>\n",
              "    <tr>\n",
              "      <th>749997</th>\n",
              "      <td>2016-03-01</td>\n",
              "      <td>749998</td>\n",
              "      <td>M</td>\n",
              "      <td>S</td>\n",
              "      <td>N</td>\n",
              "      <td>2</td>\n",
              "      <td>Assalariado</td>\n",
              "      <td>Médio</td>\n",
              "      <td>Casado</td>\n",
              "      <td>Casa</td>\n",
              "      <td>43</td>\n",
              "      <td>10.375342</td>\n",
              "      <td>4.0</td>\n",
              "      <td>649.06</td>\n",
              "      <td>1</td>\n",
              "    </tr>\n",
              "    <tr>\n",
              "      <th>749998</th>\n",
              "      <td>2016-03-01</td>\n",
              "      <td>749999</td>\n",
              "      <td>F</td>\n",
              "      <td>N</td>\n",
              "      <td>S</td>\n",
              "      <td>0</td>\n",
              "      <td>Assalariado</td>\n",
              "      <td>Médio</td>\n",
              "      <td>Viúvo</td>\n",
              "      <td>Casa</td>\n",
              "      <td>56</td>\n",
              "      <td>13.780822</td>\n",
              "      <td>1.0</td>\n",
              "      <td>4216.72</td>\n",
              "      <td>0</td>\n",
              "    </tr>\n",
              "    <tr>\n",
              "      <th>749999</th>\n",
              "      <td>2016-03-01</td>\n",
              "      <td>750000</td>\n",
              "      <td>M</td>\n",
              "      <td>S</td>\n",
              "      <td>N</td>\n",
              "      <td>2</td>\n",
              "      <td>Assalariado</td>\n",
              "      <td>Médio</td>\n",
              "      <td>Casado</td>\n",
              "      <td>Casa</td>\n",
              "      <td>43</td>\n",
              "      <td>10.375342</td>\n",
              "      <td>4.0</td>\n",
              "      <td>4460.69</td>\n",
              "      <td>0</td>\n",
              "    </tr>\n",
              "  </tbody>\n",
              "</table>\n",
              "<p>750000 rows × 15 columns</p>\n",
              "</div>"
            ],
            "text/plain": [
              "          data_ref  id_cliente sexo posse_de_veiculo posse_de_imovel  \\\n",
              "0       2015-01-01           1    F                N               N   \n",
              "1       2015-01-01           2    F                S               S   \n",
              "2       2015-01-01           3    F                N               N   \n",
              "3       2015-01-01           4    F                N               N   \n",
              "4       2015-01-01           5    F                S               N   \n",
              "...            ...         ...  ...              ...             ...   \n",
              "749995  2016-03-01      749996    M                N               S   \n",
              "749996  2016-03-01      749997    F                N               S   \n",
              "749997  2016-03-01      749998    M                S               N   \n",
              "749998  2016-03-01      749999    F                N               S   \n",
              "749999  2016-03-01      750000    M                S               N   \n",
              "\n",
              "        qtd_filhos   tipo_renda             educacao estado_civil  \\\n",
              "0                0   Empresário                Médio     Solteiro   \n",
              "1                0  Assalariado                Médio       Casado   \n",
              "2                2  Assalariado                Médio       Casado   \n",
              "3                0  Assalariado                Médio       Casado   \n",
              "4                0  Assalariado  Superior incompleto     Solteiro   \n",
              "...            ...          ...                  ...          ...   \n",
              "749995           0   Empresário    Superior completo       Casado   \n",
              "749996           0  Pensionista                Médio     Solteiro   \n",
              "749997           2  Assalariado                Médio       Casado   \n",
              "749998           0  Assalariado                Médio        Viúvo   \n",
              "749999           2  Assalariado                Médio       Casado   \n",
              "\n",
              "       tipo_residencia  idade  tempo_emprego  qt_pessoas_residencia     renda  \\\n",
              "0                 Casa     43       6.873973                    1.0   2515.39   \n",
              "1                 Casa     35       4.526027                    2.0   3180.19   \n",
              "2                 Casa     31       0.243836                    4.0   1582.29   \n",
              "3                 Casa     54      12.772603                    2.0  13721.17   \n",
              "4                 Casa     31       8.432877                    1.0   2891.08   \n",
              "...                ...    ...            ...                    ...       ...   \n",
              "749995            Casa     48       3.038356                    2.0   2109.99   \n",
              "749996            Casa     65            NaN                    1.0   1389.39   \n",
              "749997            Casa     43      10.375342                    4.0    649.06   \n",
              "749998            Casa     56      13.780822                    1.0   4216.72   \n",
              "749999            Casa     43      10.375342                    4.0   4460.69   \n",
              "\n",
              "        mau  \n",
              "0         0  \n",
              "1         0  \n",
              "2         0  \n",
              "3         0  \n",
              "4         1  \n",
              "...     ...  \n",
              "749995    0  \n",
              "749996    0  \n",
              "749997    1  \n",
              "749998    0  \n",
              "749999    0  \n",
              "\n",
              "[750000 rows x 15 columns]"
            ]
          },
          "execution_count": 583,
          "metadata": {},
          "output_type": "execute_result"
        }
      ],
      "source": [
        "# Mostrar apenas 10 linhas\n",
        "pd.set_option('display.max_rows', 10)\n",
        "\n",
        "# Carregar a base de dados\n",
        "df = pd.read_csv('credit_scoring_II.csv')\n",
        "\n",
        "# Ver a base de dados no output\n",
        "df"
      ]
    },
    {
      "cell_type": "code",
      "execution_count": null,
      "id": "3058fa26",
      "metadata": {
        "id": "3058fa26",
        "outputId": "2f681d6c-9005-4919-a982-20fc9fdd14e5"
      },
      "outputs": [
        {
          "data": {
            "text/plain": [
              "0    716758\n",
              "1     33242\n",
              "Name: mau, dtype: int64"
            ]
          },
          "execution_count": 584,
          "metadata": {},
          "output_type": "execute_result"
        }
      ],
      "source": [
        "# Mostrar quantidade numérica dos valores da coluna 'mau'\n",
        "df.mau.value_counts()"
      ]
    },
    {
      "cell_type": "code",
      "execution_count": null,
      "id": "ee49dc82",
      "metadata": {
        "id": "ee49dc82",
        "outputId": "9de4d10c-5d4b-40aa-ee76-2d4d06f3aa40"
      },
      "outputs": [
        {
          "data": {
            "text/plain": [
              "0    0.955677\n",
              "1    0.044323\n",
              "Name: mau, dtype: float64"
            ]
          },
          "execution_count": 585,
          "metadata": {},
          "output_type": "execute_result"
        }
      ],
      "source": [
        "# Mostrar quantidade em porcentagem\n",
        "df.mau.value_counts(normalize = True)"
      ]
    },
    {
      "cell_type": "code",
      "execution_count": null,
      "id": "6551e461",
      "metadata": {
        "scrolled": false,
        "id": "6551e461",
        "outputId": "30600488-b5df-4e32-d8bd-b4b748b2ef92"
      },
      "outputs": [
        {
          "data": {
            "text/plain": [
              "<seaborn.axisgrid.FacetGrid at 0x2838cf32100>"
            ]
          },
          "execution_count": 586,
          "metadata": {},
          "output_type": "execute_result"
        },
        {
          "data": {
            "image/png": "[encoded data removed]",
            "text/plain": [
              "<Figure size 906.375x288 with 1 Axes>"
            ]
          },
          "metadata": {
            "needs_background": "light"
          },
          "output_type": "display_data"
        }
      ],
      "source": [
        "sns.catplot(data=df, x='idade', y='renda', hue='mau', kind='point', height=4, aspect=3)"
      ]
    },
    {
      "cell_type": "code",
      "execution_count": null,
      "id": "bab6e26f",
      "metadata": {
        "id": "bab6e26f",
        "outputId": "6dfc602c-55d0-4a18-b638-07c392582b6c"
      },
      "outputs": [
        {
          "data": {
            "text/html": [
              "<div>\n",
              "<style scoped>\n",
              "    .dataframe tbody tr th:only-of-type {\n",
              "        vertical-align: middle;\n",
              "    }\n",
              "\n",
              "    .dataframe tbody tr th {\n",
              "        vertical-align: top;\n",
              "    }\n",
              "\n",
              "    .dataframe thead th {\n",
              "        text-align: right;\n",
              "    }\n",
              "</style>\n",
              "<table border=\"1\" class=\"dataframe\">\n",
              "  <thead>\n",
              "    <tr style=\"text-align: right;\">\n",
              "      <th>mau</th>\n",
              "      <th>0</th>\n",
              "      <th>1</th>\n",
              "    </tr>\n",
              "    <tr>\n",
              "      <th>posse_de_imovel</th>\n",
              "      <th></th>\n",
              "      <th></th>\n",
              "    </tr>\n",
              "  </thead>\n",
              "  <tbody>\n",
              "    <tr>\n",
              "      <th>N</th>\n",
              "      <td>0.949839</td>\n",
              "      <td>0.050161</td>\n",
              "    </tr>\n",
              "    <tr>\n",
              "      <th>S</th>\n",
              "      <td>0.958532</td>\n",
              "      <td>0.041468</td>\n",
              "    </tr>\n",
              "  </tbody>\n",
              "</table>\n",
              "</div>"
            ],
            "text/plain": [
              "mau                     0         1\n",
              "posse_de_imovel                    \n",
              "N                0.949839  0.050161\n",
              "S                0.958532  0.041468"
            ]
          },
          "execution_count": 587,
          "metadata": {},
          "output_type": "execute_result"
        }
      ],
      "source": [
        "# Mostrar relação com cruzamento entre duas variáveis ('posse_de_imovel' e 'mau')\n",
        "pd.crosstab(df.posse_de_imovel, df.mau, normalize = 'index')"
      ]
    },
    {
      "cell_type": "code",
      "execution_count": null,
      "id": "383dc31f",
      "metadata": {
        "id": "383dc31f",
        "outputId": "9ac06ddc-f7ed-4179-8b50-6b9ed4abf373"
      },
      "outputs": [
        {
          "data": {
            "text/html": [
              "<div>\n",
              "<style scoped>\n",
              "    .dataframe tbody tr th:only-of-type {\n",
              "        vertical-align: middle;\n",
              "    }\n",
              "\n",
              "    .dataframe tbody tr th {\n",
              "        vertical-align: top;\n",
              "    }\n",
              "\n",
              "    .dataframe thead th {\n",
              "        text-align: right;\n",
              "    }\n",
              "</style>\n",
              "<table border=\"1\" class=\"dataframe\">\n",
              "  <thead>\n",
              "    <tr style=\"text-align: right;\">\n",
              "      <th>mau</th>\n",
              "      <th>0</th>\n",
              "      <th>1</th>\n",
              "    </tr>\n",
              "    <tr>\n",
              "      <th>posse_de_veiculo</th>\n",
              "      <th></th>\n",
              "      <th></th>\n",
              "    </tr>\n",
              "  </thead>\n",
              "  <tbody>\n",
              "    <tr>\n",
              "      <th>N</th>\n",
              "      <td>0.955124</td>\n",
              "      <td>0.044876</td>\n",
              "    </tr>\n",
              "    <tr>\n",
              "      <th>S</th>\n",
              "      <td>0.956545</td>\n",
              "      <td>0.043455</td>\n",
              "    </tr>\n",
              "  </tbody>\n",
              "</table>\n",
              "</div>"
            ],
            "text/plain": [
              "mau                      0         1\n",
              "posse_de_veiculo                    \n",
              "N                 0.955124  0.044876\n",
              "S                 0.956545  0.043455"
            ]
          },
          "execution_count": 588,
          "metadata": {},
          "output_type": "execute_result"
        }
      ],
      "source": [
        "# Mostrar relação com cruzamento entre duas variáveis ('posse_de_veiculo' e 'mau')\n",
        "pd.crosstab(df.posse_de_veiculo, df.mau, normalize = 'index')"
      ]
    },
    {
      "cell_type": "code",
      "execution_count": null,
      "id": "4a127b38",
      "metadata": {
        "id": "4a127b38",
        "outputId": "3356c48a-752c-4c90-ffe4-8e36223b0906"
      },
      "outputs": [
        {
          "data": {
            "text/html": [
              "<div>\n",
              "<style scoped>\n",
              "    .dataframe tbody tr th:only-of-type {\n",
              "        vertical-align: middle;\n",
              "    }\n",
              "\n",
              "    .dataframe tbody tr th {\n",
              "        vertical-align: top;\n",
              "    }\n",
              "\n",
              "    .dataframe thead th {\n",
              "        text-align: right;\n",
              "    }\n",
              "</style>\n",
              "<table border=\"1\" class=\"dataframe\">\n",
              "  <thead>\n",
              "    <tr style=\"text-align: right;\">\n",
              "      <th>mau</th>\n",
              "      <th>0</th>\n",
              "      <th>1</th>\n",
              "    </tr>\n",
              "    <tr>\n",
              "      <th>tipo_renda</th>\n",
              "      <th></th>\n",
              "      <th></th>\n",
              "    </tr>\n",
              "  </thead>\n",
              "  <tbody>\n",
              "    <tr>\n",
              "      <th>Assalariado</th>\n",
              "      <td>0.953917</td>\n",
              "      <td>0.046083</td>\n",
              "    </tr>\n",
              "    <tr>\n",
              "      <th>Bolsista</th>\n",
              "      <td>0.977839</td>\n",
              "      <td>0.022161</td>\n",
              "    </tr>\n",
              "    <tr>\n",
              "      <th>Empresário</th>\n",
              "      <td>0.956297</td>\n",
              "      <td>0.043703</td>\n",
              "    </tr>\n",
              "    <tr>\n",
              "      <th>Pensionista</th>\n",
              "      <td>0.953748</td>\n",
              "      <td>0.046252</td>\n",
              "    </tr>\n",
              "    <tr>\n",
              "      <th>Servidor público</th>\n",
              "      <td>0.968116</td>\n",
              "      <td>0.031884</td>\n",
              "    </tr>\n",
              "  </tbody>\n",
              "</table>\n",
              "</div>"
            ],
            "text/plain": [
              "mau                      0         1\n",
              "tipo_renda                          \n",
              "Assalariado       0.953917  0.046083\n",
              "Bolsista          0.977839  0.022161\n",
              "Empresário        0.956297  0.043703\n",
              "Pensionista       0.953748  0.046252\n",
              "Servidor público  0.968116  0.031884"
            ]
          },
          "execution_count": 589,
          "metadata": {},
          "output_type": "execute_result"
        }
      ],
      "source": [
        "# Mostrar relação com cruzamento entre duas variáveis ('tipo_renda' e 'mau')\n",
        "pd.crosstab(df.tipo_renda, df.mau, normalize = 'index')"
      ]
    },
    {
      "cell_type": "code",
      "execution_count": null,
      "id": "6621c8a0",
      "metadata": {
        "id": "6621c8a0"
      },
      "outputs": [],
      "source": [
        "# Transformar a variável resposta em inteiro\n",
        "    # df['mau'] = df.mau.astype('int64')\n",
        "    # df['mau']"
      ]
    },
    {
      "cell_type": "markdown",
      "id": "8b08d424",
      "metadata": {
        "id": "8b08d424"
      },
      "source": [
        "## 4. Desenvolvimento do scorecard"
      ]
    },
    {
      "cell_type": "markdown",
      "id": "c692a297",
      "metadata": {
        "id": "c692a297"
      },
      "source": [
        "### 4.1 Análise exploratória"
      ]
    },
    {
      "cell_type": "markdown",
      "id": "4045907e",
      "metadata": {
        "id": "4045907e"
      },
      "source": [
        "### 4.2 Desenvolvimento do modelo"
      ]
    },
    {
      "cell_type": "code",
      "execution_count": null,
      "id": "6cfe1940",
      "metadata": {
        "id": "6cfe1940",
        "outputId": "9f702675-7bdf-421e-e116-c8ea0a53499c"
      },
      "outputs": [
        {
          "data": {
            "text/plain": [
              "(750000, 15)"
            ]
          },
          "execution_count": 591,
          "metadata": {},
          "output_type": "execute_result"
        }
      ],
      "source": [
        "# Visualização da quantidade de linhas e colunas\n",
        "df.shape"
      ]
    },
    {
      "cell_type": "code",
      "execution_count": null,
      "id": "5b45532d",
      "metadata": {
        "id": "5b45532d"
      },
      "outputs": [],
      "source": [
        "pd.set_option('display.max_rows', None)"
      ]
    },
    {
      "cell_type": "code",
      "execution_count": null,
      "id": "423a336e",
      "metadata": {
        "id": "423a336e",
        "outputId": "159832c5-64b5-426b-cafd-d41452d75e36"
      },
      "outputs": [
        {
          "data": {
            "text/plain": [
              "125957"
            ]
          },
          "execution_count": 593,
          "metadata": {},
          "output_type": "execute_result"
        }
      ],
      "source": [
        "# Número de linhas com valores NaN\n",
        "df.isnull().sum().sum()"
      ]
    },
    {
      "cell_type": "code",
      "execution_count": null,
      "id": "6ccd68d0",
      "metadata": {
        "id": "6ccd68d0",
        "outputId": "502b6961-cd80-4290-fe3d-951d75f323f8"
      },
      "outputs": [
        {
          "data": {
            "text/plain": [
              "data_ref                      0\n",
              "id_cliente                    0\n",
              "sexo                          0\n",
              "posse_de_veiculo              0\n",
              "posse_de_imovel               0\n",
              "qtd_filhos                    0\n",
              "tipo_renda                    0\n",
              "educacao                      0\n",
              "estado_civil                  0\n",
              "tipo_residencia               0\n",
              "idade                         0\n",
              "tempo_emprego            125957\n",
              "qt_pessoas_residencia         0\n",
              "renda                         0\n",
              "mau                           0\n",
              "dtype: int64"
            ]
          },
          "execution_count": 594,
          "metadata": {},
          "output_type": "execute_result"
        }
      ],
      "source": [
        "# Número de linhas com valores NaN\n",
        "df.isna().sum()"
      ]
    },
    {
      "cell_type": "code",
      "execution_count": null,
      "id": "b2d4430a",
      "metadata": {
        "id": "b2d4430a"
      },
      "outputs": [],
      "source": [
        "pd.reset_option('display.max_rows')"
      ]
    },
    {
      "cell_type": "code",
      "execution_count": null,
      "id": "2205b5c2",
      "metadata": {
        "id": "2205b5c2"
      },
      "outputs": [],
      "source": [
        "# Remoção de linhas com valores NaN\n",
        "df.dropna(axis = 0, how = 'any', inplace = True)"
      ]
    },
    {
      "cell_type": "code",
      "execution_count": null,
      "id": "5f1607a4",
      "metadata": {
        "id": "5f1607a4"
      },
      "outputs": [],
      "source": [
        "# Substuição de valores NaN por 0\n",
        "# df['tempo_emprego'].fillna(0, inplace=True)"
      ]
    },
    {
      "cell_type": "code",
      "execution_count": null,
      "id": "0966c662",
      "metadata": {
        "id": "0966c662",
        "outputId": "08226ac4-7d2c-47dc-8f8e-cd6197785d03"
      },
      "outputs": [
        {
          "data": {
            "text/plain": [
              "(624043, 15)"
            ]
          },
          "execution_count": 598,
          "metadata": {},
          "output_type": "execute_result"
        }
      ],
      "source": [
        "# Visualização da quantidade de linhas e colunas após remoção\n",
        "df.shape"
      ]
    },
    {
      "cell_type": "code",
      "execution_count": null,
      "id": "a90a6130",
      "metadata": {
        "id": "a90a6130",
        "outputId": "ed47b091-18f3-440c-f084-aa6b82019bb9"
      },
      "outputs": [
        {
          "data": {
            "text/plain": [
              "0"
            ]
          },
          "execution_count": 599,
          "metadata": {},
          "output_type": "execute_result"
        }
      ],
      "source": [
        "# Número novo de linhas com valores NaN\n",
        "df.isna().sum().sum()"
      ]
    },
    {
      "cell_type": "code",
      "execution_count": null,
      "id": "b457efb3",
      "metadata": {
        "id": "b457efb3"
      },
      "outputs": [],
      "source": [
        "# Definir um objeto X somente com as variáveis explicativas\n",
        "X = df.drop(columns = ['mau', 'id_cliente', 'data_ref'])\n",
        "\n",
        "# Definir um objeto y somente com a variável resposta\n",
        "y = df['mau']"
      ]
    },
    {
      "cell_type": "code",
      "execution_count": null,
      "id": "d87d9850",
      "metadata": {
        "id": "d87d9850",
        "outputId": "c3f5934b-d7c4-458a-e25c-894e036e2337"
      },
      "outputs": [
        {
          "data": {
            "text/plain": [
              "Index(['sexo', 'posse_de_veiculo', 'posse_de_imovel', 'qtd_filhos',\n",
              "       'tipo_renda', 'educacao', 'estado_civil', 'tipo_residencia', 'idade',\n",
              "       'tempo_emprego', 'qt_pessoas_residencia', 'renda'],\n",
              "      dtype='object')"
            ]
          },
          "execution_count": 601,
          "metadata": {},
          "output_type": "execute_result"
        }
      ],
      "source": [
        "X.columns"
      ]
    },
    {
      "cell_type": "code",
      "execution_count": null,
      "id": "a0c31ff8",
      "metadata": {
        "scrolled": false,
        "id": "a0c31ff8",
        "outputId": "54999434-e911-4787-af19-3de14506f2fe"
      },
      "outputs": [
        {
          "data": {
            "text/html": [
              "<div>\n",
              "<style scoped>\n",
              "    .dataframe tbody tr th:only-of-type {\n",
              "        vertical-align: middle;\n",
              "    }\n",
              "\n",
              "    .dataframe tbody tr th {\n",
              "        vertical-align: top;\n",
              "    }\n",
              "\n",
              "    .dataframe thead th {\n",
              "        text-align: right;\n",
              "    }\n",
              "</style>\n",
              "<table border=\"1\" class=\"dataframe\">\n",
              "  <thead>\n",
              "    <tr style=\"text-align: right;\">\n",
              "      <th></th>\n",
              "      <th>qtd_filhos</th>\n",
              "      <th>idade</th>\n",
              "      <th>tempo_emprego</th>\n",
              "      <th>qt_pessoas_residencia</th>\n",
              "      <th>renda</th>\n",
              "      <th>sexo_M</th>\n",
              "      <th>posse_de_veiculo_S</th>\n",
              "      <th>posse_de_imovel_S</th>\n",
              "      <th>tipo_renda_Bolsista</th>\n",
              "      <th>tipo_renda_Empresário</th>\n",
              "      <th>...</th>\n",
              "      <th>educacao_Superior incompleto</th>\n",
              "      <th>estado_civil_Separado</th>\n",
              "      <th>estado_civil_Solteiro</th>\n",
              "      <th>estado_civil_União</th>\n",
              "      <th>estado_civil_Viúvo</th>\n",
              "      <th>tipo_residencia_Casa</th>\n",
              "      <th>tipo_residencia_Com os pais</th>\n",
              "      <th>tipo_residencia_Comunitário</th>\n",
              "      <th>tipo_residencia_Estúdio</th>\n",
              "      <th>tipo_residencia_Governamental</th>\n",
              "    </tr>\n",
              "  </thead>\n",
              "  <tbody>\n",
              "    <tr>\n",
              "      <th>0</th>\n",
              "      <td>0</td>\n",
              "      <td>43</td>\n",
              "      <td>6.873973</td>\n",
              "      <td>1.0</td>\n",
              "      <td>2515.39</td>\n",
              "      <td>0</td>\n",
              "      <td>0</td>\n",
              "      <td>0</td>\n",
              "      <td>0</td>\n",
              "      <td>1</td>\n",
              "      <td>...</td>\n",
              "      <td>0</td>\n",
              "      <td>0</td>\n",
              "      <td>1</td>\n",
              "      <td>0</td>\n",
              "      <td>0</td>\n",
              "      <td>1</td>\n",
              "      <td>0</td>\n",
              "      <td>0</td>\n",
              "      <td>0</td>\n",
              "      <td>0</td>\n",
              "    </tr>\n",
              "    <tr>\n",
              "      <th>1</th>\n",
              "      <td>0</td>\n",
              "      <td>35</td>\n",
              "      <td>4.526027</td>\n",
              "      <td>2.0</td>\n",
              "      <td>3180.19</td>\n",
              "      <td>0</td>\n",
              "      <td>1</td>\n",
              "      <td>1</td>\n",
              "      <td>0</td>\n",
              "      <td>0</td>\n",
              "      <td>...</td>\n",
              "      <td>0</td>\n",
              "      <td>0</td>\n",
              "      <td>0</td>\n",
              "      <td>0</td>\n",
              "      <td>0</td>\n",
              "      <td>1</td>\n",
              "      <td>0</td>\n",
              "      <td>0</td>\n",
              "      <td>0</td>\n",
              "      <td>0</td>\n",
              "    </tr>\n",
              "    <tr>\n",
              "      <th>2</th>\n",
              "      <td>2</td>\n",
              "      <td>31</td>\n",
              "      <td>0.243836</td>\n",
              "      <td>4.0</td>\n",
              "      <td>1582.29</td>\n",
              "      <td>0</td>\n",
              "      <td>0</td>\n",
              "      <td>0</td>\n",
              "      <td>0</td>\n",
              "      <td>0</td>\n",
              "      <td>...</td>\n",
              "      <td>0</td>\n",
              "      <td>0</td>\n",
              "      <td>0</td>\n",
              "      <td>0</td>\n",
              "      <td>0</td>\n",
              "      <td>1</td>\n",
              "      <td>0</td>\n",
              "      <td>0</td>\n",
              "      <td>0</td>\n",
              "      <td>0</td>\n",
              "    </tr>\n",
              "    <tr>\n",
              "      <th>3</th>\n",
              "      <td>0</td>\n",
              "      <td>54</td>\n",
              "      <td>12.772603</td>\n",
              "      <td>2.0</td>\n",
              "      <td>13721.17</td>\n",
              "      <td>0</td>\n",
              "      <td>0</td>\n",
              "      <td>0</td>\n",
              "      <td>0</td>\n",
              "      <td>0</td>\n",
              "      <td>...</td>\n",
              "      <td>0</td>\n",
              "      <td>0</td>\n",
              "      <td>0</td>\n",
              "      <td>0</td>\n",
              "      <td>0</td>\n",
              "      <td>1</td>\n",
              "      <td>0</td>\n",
              "      <td>0</td>\n",
              "      <td>0</td>\n",
              "      <td>0</td>\n",
              "    </tr>\n",
              "    <tr>\n",
              "      <th>4</th>\n",
              "      <td>0</td>\n",
              "      <td>31</td>\n",
              "      <td>8.432877</td>\n",
              "      <td>1.0</td>\n",
              "      <td>2891.08</td>\n",
              "      <td>0</td>\n",
              "      <td>1</td>\n",
              "      <td>0</td>\n",
              "      <td>0</td>\n",
              "      <td>0</td>\n",
              "      <td>...</td>\n",
              "      <td>1</td>\n",
              "      <td>0</td>\n",
              "      <td>1</td>\n",
              "      <td>0</td>\n",
              "      <td>0</td>\n",
              "      <td>1</td>\n",
              "      <td>0</td>\n",
              "      <td>0</td>\n",
              "      <td>0</td>\n",
              "      <td>0</td>\n",
              "    </tr>\n",
              "    <tr>\n",
              "      <th>...</th>\n",
              "      <td>...</td>\n",
              "      <td>...</td>\n",
              "      <td>...</td>\n",
              "      <td>...</td>\n",
              "      <td>...</td>\n",
              "      <td>...</td>\n",
              "      <td>...</td>\n",
              "      <td>...</td>\n",
              "      <td>...</td>\n",
              "      <td>...</td>\n",
              "      <td>...</td>\n",
              "      <td>...</td>\n",
              "      <td>...</td>\n",
              "      <td>...</td>\n",
              "      <td>...</td>\n",
              "      <td>...</td>\n",
              "      <td>...</td>\n",
              "      <td>...</td>\n",
              "      <td>...</td>\n",
              "      <td>...</td>\n",
              "      <td>...</td>\n",
              "    </tr>\n",
              "    <tr>\n",
              "      <th>749993</th>\n",
              "      <td>0</td>\n",
              "      <td>51</td>\n",
              "      <td>13.298630</td>\n",
              "      <td>2.0</td>\n",
              "      <td>15315.94</td>\n",
              "      <td>0</td>\n",
              "      <td>0</td>\n",
              "      <td>1</td>\n",
              "      <td>0</td>\n",
              "      <td>1</td>\n",
              "      <td>...</td>\n",
              "      <td>0</td>\n",
              "      <td>0</td>\n",
              "      <td>0</td>\n",
              "      <td>0</td>\n",
              "      <td>0</td>\n",
              "      <td>1</td>\n",
              "      <td>0</td>\n",
              "      <td>0</td>\n",
              "      <td>0</td>\n",
              "      <td>0</td>\n",
              "    </tr>\n",
              "    <tr>\n",
              "      <th>749995</th>\n",
              "      <td>0</td>\n",
              "      <td>48</td>\n",
              "      <td>3.038356</td>\n",
              "      <td>2.0</td>\n",
              "      <td>2109.99</td>\n",
              "      <td>1</td>\n",
              "      <td>0</td>\n",
              "      <td>1</td>\n",
              "      <td>0</td>\n",
              "      <td>1</td>\n",
              "      <td>...</td>\n",
              "      <td>0</td>\n",
              "      <td>0</td>\n",
              "      <td>0</td>\n",
              "      <td>0</td>\n",
              "      <td>0</td>\n",
              "      <td>1</td>\n",
              "      <td>0</td>\n",
              "      <td>0</td>\n",
              "      <td>0</td>\n",
              "      <td>0</td>\n",
              "    </tr>\n",
              "    <tr>\n",
              "      <th>749997</th>\n",
              "      <td>2</td>\n",
              "      <td>43</td>\n",
              "      <td>10.375342</td>\n",
              "      <td>4.0</td>\n",
              "      <td>649.06</td>\n",
              "      <td>1</td>\n",
              "      <td>1</td>\n",
              "      <td>0</td>\n",
              "      <td>0</td>\n",
              "      <td>0</td>\n",
              "      <td>...</td>\n",
              "      <td>0</td>\n",
              "      <td>0</td>\n",
              "      <td>0</td>\n",
              "      <td>0</td>\n",
              "      <td>0</td>\n",
              "      <td>1</td>\n",
              "      <td>0</td>\n",
              "      <td>0</td>\n",
              "      <td>0</td>\n",
              "      <td>0</td>\n",
              "    </tr>\n",
              "    <tr>\n",
              "      <th>749998</th>\n",
              "      <td>0</td>\n",
              "      <td>56</td>\n",
              "      <td>13.780822</td>\n",
              "      <td>1.0</td>\n",
              "      <td>4216.72</td>\n",
              "      <td>0</td>\n",
              "      <td>0</td>\n",
              "      <td>1</td>\n",
              "      <td>0</td>\n",
              "      <td>0</td>\n",
              "      <td>...</td>\n",
              "      <td>0</td>\n",
              "      <td>0</td>\n",
              "      <td>0</td>\n",
              "      <td>0</td>\n",
              "      <td>1</td>\n",
              "      <td>1</td>\n",
              "      <td>0</td>\n",
              "      <td>0</td>\n",
              "      <td>0</td>\n",
              "      <td>0</td>\n",
              "    </tr>\n",
              "    <tr>\n",
              "      <th>749999</th>\n",
              "      <td>2</td>\n",
              "      <td>43</td>\n",
              "      <td>10.375342</td>\n",
              "      <td>4.0</td>\n",
              "      <td>4460.69</td>\n",
              "      <td>1</td>\n",
              "      <td>1</td>\n",
              "      <td>0</td>\n",
              "      <td>0</td>\n",
              "      <td>0</td>\n",
              "      <td>...</td>\n",
              "      <td>0</td>\n",
              "      <td>0</td>\n",
              "      <td>0</td>\n",
              "      <td>0</td>\n",
              "      <td>0</td>\n",
              "      <td>1</td>\n",
              "      <td>0</td>\n",
              "      <td>0</td>\n",
              "      <td>0</td>\n",
              "      <td>0</td>\n",
              "    </tr>\n",
              "  </tbody>\n",
              "</table>\n",
              "<p>624043 rows × 25 columns</p>\n",
              "</div>"
            ],
            "text/plain": [
              "        qtd_filhos  idade  tempo_emprego  qt_pessoas_residencia     renda  \\\n",
              "0                0     43       6.873973                    1.0   2515.39   \n",
              "1                0     35       4.526027                    2.0   3180.19   \n",
              "2                2     31       0.243836                    4.0   1582.29   \n",
              "3                0     54      12.772603                    2.0  13721.17   \n",
              "4                0     31       8.432877                    1.0   2891.08   \n",
              "...            ...    ...            ...                    ...       ...   \n",
              "749993           0     51      13.298630                    2.0  15315.94   \n",
              "749995           0     48       3.038356                    2.0   2109.99   \n",
              "749997           2     43      10.375342                    4.0    649.06   \n",
              "749998           0     56      13.780822                    1.0   4216.72   \n",
              "749999           2     43      10.375342                    4.0   4460.69   \n",
              "\n",
              "        sexo_M  posse_de_veiculo_S  posse_de_imovel_S  tipo_renda_Bolsista  \\\n",
              "0            0                   0                  0                    0   \n",
              "1            0                   1                  1                    0   \n",
              "2            0                   0                  0                    0   \n",
              "3            0                   0                  0                    0   \n",
              "4            0                   1                  0                    0   \n",
              "...        ...                 ...                ...                  ...   \n",
              "749993       0                   0                  1                    0   \n",
              "749995       1                   0                  1                    0   \n",
              "749997       1                   1                  0                    0   \n",
              "749998       0                   0                  1                    0   \n",
              "749999       1                   1                  0                    0   \n",
              "\n",
              "        tipo_renda_Empresário  ...  educacao_Superior incompleto  \\\n",
              "0                           1  ...                             0   \n",
              "1                           0  ...                             0   \n",
              "2                           0  ...                             0   \n",
              "3                           0  ...                             0   \n",
              "4                           0  ...                             1   \n",
              "...                       ...  ...                           ...   \n",
              "749993                      1  ...                             0   \n",
              "749995                      1  ...                             0   \n",
              "749997                      0  ...                             0   \n",
              "749998                      0  ...                             0   \n",
              "749999                      0  ...                             0   \n",
              "\n",
              "        estado_civil_Separado  estado_civil_Solteiro  estado_civil_União  \\\n",
              "0                           0                      1                   0   \n",
              "1                           0                      0                   0   \n",
              "2                           0                      0                   0   \n",
              "3                           0                      0                   0   \n",
              "4                           0                      1                   0   \n",
              "...                       ...                    ...                 ...   \n",
              "749993                      0                      0                   0   \n",
              "749995                      0                      0                   0   \n",
              "749997                      0                      0                   0   \n",
              "749998                      0                      0                   0   \n",
              "749999                      0                      0                   0   \n",
              "\n",
              "        estado_civil_Viúvo  tipo_residencia_Casa  tipo_residencia_Com os pais  \\\n",
              "0                        0                     1                            0   \n",
              "1                        0                     1                            0   \n",
              "2                        0                     1                            0   \n",
              "3                        0                     1                            0   \n",
              "4                        0                     1                            0   \n",
              "...                    ...                   ...                          ...   \n",
              "749993                   0                     1                            0   \n",
              "749995                   0                     1                            0   \n",
              "749997                   0                     1                            0   \n",
              "749998                   1                     1                            0   \n",
              "749999                   0                     1                            0   \n",
              "\n",
              "        tipo_residencia_Comunitário  tipo_residencia_Estúdio  \\\n",
              "0                                 0                        0   \n",
              "1                                 0                        0   \n",
              "2                                 0                        0   \n",
              "3                                 0                        0   \n",
              "4                                 0                        0   \n",
              "...                             ...                      ...   \n",
              "749993                            0                        0   \n",
              "749995                            0                        0   \n",
              "749997                            0                        0   \n",
              "749998                            0                        0   \n",
              "749999                            0                        0   \n",
              "\n",
              "        tipo_residencia_Governamental  \n",
              "0                                   0  \n",
              "1                                   0  \n",
              "2                                   0  \n",
              "3                                   0  \n",
              "4                                   0  \n",
              "...                               ...  \n",
              "749993                              0  \n",
              "749995                              0  \n",
              "749997                              0  \n",
              "749998                              0  \n",
              "749999                              0  \n",
              "\n",
              "[624043 rows x 25 columns]"
            ]
          },
          "execution_count": 602,
          "metadata": {},
          "output_type": "execute_result"
        }
      ],
      "source": [
        "# Transformar as variáveis qualitativas em numéricas (dummies)\n",
        "X = pd.get_dummies(X, drop_first = True)\n",
        "X"
      ]
    },
    {
      "cell_type": "code",
      "execution_count": null,
      "id": "fae7b92b",
      "metadata": {
        "id": "fae7b92b",
        "outputId": "d58b9504-a4a6-40d4-e51d-345ddc06675c"
      },
      "outputs": [
        {
          "data": {
            "text/plain": [
              "0         0\n",
              "1         0\n",
              "2         0\n",
              "3         0\n",
              "4         1\n",
              "         ..\n",
              "749993    0\n",
              "749995    0\n",
              "749997    1\n",
              "749998    0\n",
              "749999    0\n",
              "Name: mau, Length: 624043, dtype: int64"
            ]
          },
          "execution_count": 603,
          "metadata": {},
          "output_type": "execute_result"
        }
      ],
      "source": [
        "y"
      ]
    },
    {
      "cell_type": "code",
      "execution_count": null,
      "id": "7307e799",
      "metadata": {
        "id": "7307e799"
      },
      "outputs": [],
      "source": [
        "# Dividir os objetos X e y em treino e teste\n",
        "X_train, X_test, y_train, y_test = train_test_split(X,y)"
      ]
    },
    {
      "cell_type": "code",
      "execution_count": null,
      "id": "7a0d38f3",
      "metadata": {
        "scrolled": true,
        "id": "7a0d38f3",
        "outputId": "e29ec8d6-1d72-4701-da65-041b3818cf58"
      },
      "outputs": [
        {
          "name": "stdout",
          "output_type": "stream",
          "text": [
            "(468032, 25)\n",
            "(156011, 25)\n",
            "(468032,)\n",
            "(156011,)\n"
          ]
        }
      ],
      "source": [
        "# Checando os objetos\n",
        "\n",
        "print(X_train.shape)\n",
        "print(X_test.shape)\n",
        "print(y_train.shape)\n",
        "print(y_test.shape)"
      ]
    },
    {
      "cell_type": "code",
      "execution_count": null,
      "id": "17c146a4",
      "metadata": {
        "id": "17c146a4",
        "outputId": "3fa17b2f-d588-4b5c-bdcf-e6c1d052a461"
      },
      "outputs": [
        {
          "data": {
            "text/plain": [
              "DecisionTreeClassifier(max_depth=5, random_state=420710)"
            ]
          },
          "execution_count": 606,
          "metadata": {},
          "output_type": "execute_result"
        }
      ],
      "source": [
        "# Importando a árvore de classificação\n",
        "clf = DecisionTreeClassifier(random_state = 420710, min_samples_leaf=1, max_depth=5)\n",
        "clf"
      ]
    },
    {
      "cell_type": "code",
      "execution_count": null,
      "id": "193707b8",
      "metadata": {
        "id": "193707b8",
        "outputId": "e12e7ff4-66e4-47d8-ecfb-492fc556a448"
      },
      "outputs": [
        {
          "data": {
            "text/plain": [
              "DecisionTreeClassifier(max_depth=5, random_state=420710)"
            ]
          },
          "execution_count": 607,
          "metadata": {},
          "output_type": "execute_result"
        }
      ],
      "source": [
        "# Treino do modelo com a base de treino\n",
        "clf.fit(X_train, y_train)"
      ]
    },
    {
      "cell_type": "code",
      "execution_count": null,
      "id": "820027e2",
      "metadata": {
        "id": "820027e2",
        "outputId": "7b107c71-d1f3-4065-d13c-19b7d1a01241"
      },
      "outputs": [
        {
          "data": {
            "text/html": [
              "<div>\n",
              "<style scoped>\n",
              "    .dataframe tbody tr th:only-of-type {\n",
              "        vertical-align: middle;\n",
              "    }\n",
              "\n",
              "    .dataframe tbody tr th {\n",
              "        vertical-align: top;\n",
              "    }\n",
              "\n",
              "    .dataframe thead th {\n",
              "        text-align: right;\n",
              "    }\n",
              "</style>\n",
              "<table border=\"1\" class=\"dataframe\">\n",
              "  <thead>\n",
              "    <tr style=\"text-align: right;\">\n",
              "      <th>mau</th>\n",
              "      <th>0</th>\n",
              "      <th>1</th>\n",
              "    </tr>\n",
              "    <tr>\n",
              "      <th>row_0</th>\n",
              "      <th></th>\n",
              "      <th></th>\n",
              "    </tr>\n",
              "  </thead>\n",
              "  <tbody>\n",
              "    <tr>\n",
              "      <th>0</th>\n",
              "      <td>447543</td>\n",
              "      <td>20486</td>\n",
              "    </tr>\n",
              "    <tr>\n",
              "      <th>1</th>\n",
              "      <td>1</td>\n",
              "      <td>2</td>\n",
              "    </tr>\n",
              "  </tbody>\n",
              "</table>\n",
              "</div>"
            ],
            "text/plain": [
              "mau         0      1\n",
              "row_0               \n",
              "0      447543  20486\n",
              "1           1      2"
            ]
          },
          "execution_count": 608,
          "metadata": {},
          "output_type": "execute_result"
        }
      ],
      "source": [
        "# Avaliação das classificações na base de treino\n",
        "prev_treino = clf.predict(X_train)\n",
        "\n",
        "pd.crosstab(prev_treino, y_train)"
      ]
    },
    {
      "cell_type": "code",
      "execution_count": null,
      "id": "079a183d",
      "metadata": {
        "id": "079a183d",
        "outputId": "fba8dd9d-ce99-4133-9d0b-b970d522c143"
      },
      "outputs": [
        {
          "data": {
            "text/html": [
              "<div>\n",
              "<style scoped>\n",
              "    .dataframe tbody tr th:only-of-type {\n",
              "        vertical-align: middle;\n",
              "    }\n",
              "\n",
              "    .dataframe tbody tr th {\n",
              "        vertical-align: top;\n",
              "    }\n",
              "\n",
              "    .dataframe thead th {\n",
              "        text-align: right;\n",
              "    }\n",
              "</style>\n",
              "<table border=\"1\" class=\"dataframe\">\n",
              "  <thead>\n",
              "    <tr style=\"text-align: right;\">\n",
              "      <th>mau</th>\n",
              "      <th>0</th>\n",
              "      <th>1</th>\n",
              "    </tr>\n",
              "    <tr>\n",
              "      <th>row_0</th>\n",
              "      <th></th>\n",
              "      <th></th>\n",
              "    </tr>\n",
              "  </thead>\n",
              "  <tbody>\n",
              "    <tr>\n",
              "      <th>0</th>\n",
              "      <td>0.956229</td>\n",
              "      <td>0.043771</td>\n",
              "    </tr>\n",
              "    <tr>\n",
              "      <th>1</th>\n",
              "      <td>0.333333</td>\n",
              "      <td>0.666667</td>\n",
              "    </tr>\n",
              "  </tbody>\n",
              "</table>\n",
              "</div>"
            ],
            "text/plain": [
              "mau           0         1\n",
              "row_0                    \n",
              "0      0.956229  0.043771\n",
              "1      0.333333  0.666667"
            ]
          },
          "execution_count": 609,
          "metadata": {},
          "output_type": "execute_result"
        }
      ],
      "source": [
        "# Avaliação das classificações na base de treino em porcentagem\n",
        "prev_treino = clf.predict(X_train)\n",
        "\n",
        "pd.crosstab(prev_treino, y_train, normalize = 'index')"
      ]
    },
    {
      "cell_type": "code",
      "execution_count": null,
      "id": "cf0ef80c",
      "metadata": {
        "id": "cf0ef80c",
        "outputId": "745c0ba3-cf86-48ac-9ebb-9b478e9ac84d"
      },
      "outputs": [
        {
          "data": {
            "text/html": [
              "<div>\n",
              "<style scoped>\n",
              "    .dataframe tbody tr th:only-of-type {\n",
              "        vertical-align: middle;\n",
              "    }\n",
              "\n",
              "    .dataframe tbody tr th {\n",
              "        vertical-align: top;\n",
              "    }\n",
              "\n",
              "    .dataframe thead th {\n",
              "        text-align: right;\n",
              "    }\n",
              "</style>\n",
              "<table border=\"1\" class=\"dataframe\">\n",
              "  <thead>\n",
              "    <tr style=\"text-align: right;\">\n",
              "      <th>mau</th>\n",
              "      <th>0</th>\n",
              "      <th>1</th>\n",
              "    </tr>\n",
              "    <tr>\n",
              "      <th>row_0</th>\n",
              "      <th></th>\n",
              "      <th></th>\n",
              "    </tr>\n",
              "  </thead>\n",
              "  <tbody>\n",
              "    <tr>\n",
              "      <th>0</th>\n",
              "      <td>149073</td>\n",
              "      <td>6936</td>\n",
              "    </tr>\n",
              "    <tr>\n",
              "      <th>1</th>\n",
              "      <td>2</td>\n",
              "      <td>0</td>\n",
              "    </tr>\n",
              "  </tbody>\n",
              "</table>\n",
              "</div>"
            ],
            "text/plain": [
              "mau         0     1\n",
              "row_0              \n",
              "0      149073  6936\n",
              "1           2     0"
            ]
          },
          "execution_count": 610,
          "metadata": {},
          "output_type": "execute_result"
        }
      ],
      "source": [
        "# AVALIAÇÃO DAS CLASSIFICAÇÕES NA BASE DE TESTE!\n",
        "prev_treino = clf.predict(X_test)\n",
        "\n",
        "pd.crosstab(prev_treino, y_test)"
      ]
    },
    {
      "cell_type": "code",
      "execution_count": null,
      "id": "259d1355",
      "metadata": {
        "id": "259d1355",
        "outputId": "0e8b2b46-8c64-4dce-cf6d-470817bfa1dc"
      },
      "outputs": [
        {
          "data": {
            "text/html": [
              "<div>\n",
              "<style scoped>\n",
              "    .dataframe tbody tr th:only-of-type {\n",
              "        vertical-align: middle;\n",
              "    }\n",
              "\n",
              "    .dataframe tbody tr th {\n",
              "        vertical-align: top;\n",
              "    }\n",
              "\n",
              "    .dataframe thead th {\n",
              "        text-align: right;\n",
              "    }\n",
              "</style>\n",
              "<table border=\"1\" class=\"dataframe\">\n",
              "  <thead>\n",
              "    <tr style=\"text-align: right;\">\n",
              "      <th>mau</th>\n",
              "      <th>0</th>\n",
              "      <th>1</th>\n",
              "    </tr>\n",
              "    <tr>\n",
              "      <th>row_0</th>\n",
              "      <th></th>\n",
              "      <th></th>\n",
              "    </tr>\n",
              "  </thead>\n",
              "  <tbody>\n",
              "    <tr>\n",
              "      <th>0</th>\n",
              "      <td>0.955541</td>\n",
              "      <td>0.044459</td>\n",
              "    </tr>\n",
              "    <tr>\n",
              "      <th>1</th>\n",
              "      <td>1.000000</td>\n",
              "      <td>0.000000</td>\n",
              "    </tr>\n",
              "  </tbody>\n",
              "</table>\n",
              "</div>"
            ],
            "text/plain": [
              "mau           0         1\n",
              "row_0                    \n",
              "0      0.955541  0.044459\n",
              "1      1.000000  0.000000"
            ]
          },
          "execution_count": 611,
          "metadata": {},
          "output_type": "execute_result"
        }
      ],
      "source": [
        "# AVALIAÇÃO DAS CLASSIFICAÇÕES NA BASE DE TESTE!\n",
        "prev_treino = clf.predict(X_test)\n",
        "\n",
        "pd.crosstab(prev_treino, y_test, normalize = 'index')"
      ]
    },
    {
      "cell_type": "code",
      "execution_count": null,
      "id": "fc2e179e",
      "metadata": {
        "id": "fc2e179e",
        "outputId": "42f30ffc-5a94-448b-eb46-2925f7cfe455"
      },
      "outputs": [
        {
          "data": {
            "text/plain": [
              "0.7108747143824181"
            ]
          },
          "execution_count": 612,
          "metadata": {},
          "output_type": "execute_result"
        }
      ],
      "source": [
        "# Calcular AUC (train)\n",
        "proba_train = clf.predict_proba(X_train)[:,1]\n",
        "fpr, tpr, thresholds = metrics.roc_curve(y_train, proba_train)\n",
        "metrics.auc(fpr, tpr)"
      ]
    },
    {
      "cell_type": "code",
      "execution_count": null,
      "id": "36157b1a",
      "metadata": {
        "scrolled": true,
        "id": "36157b1a",
        "outputId": "0693cdf2-515d-4dc9-ca87-0c57a5f601f8"
      },
      "outputs": [
        {
          "data": {
            "text/plain": [
              "0.7093142777230057"
            ]
          },
          "execution_count": 613,
          "metadata": {},
          "output_type": "execute_result"
        }
      ],
      "source": [
        "# Calcular AUC (test)\n",
        "proba_test = clf.predict_proba(X_test)[:,1]\n",
        "fpr, tpr, thresholds = metrics.roc_curve(y_test, proba_test)\n",
        "metrics.auc(fpr, tpr)"
      ]
    },
    {
      "cell_type": "markdown",
      "id": "209b9125",
      "metadata": {
        "id": "209b9125"
      },
      "source": [
        "# Projeto"
      ]
    },
    {
      "cell_type": "markdown",
      "id": "6cbfaca2",
      "metadata": {
        "id": "6cbfaca2"
      },
      "source": [
        "### 4.3 Fazendo o *tunning* do modelo"
      ]
    },
    {
      "cell_type": "code",
      "execution_count": null,
      "id": "9a7950d6",
      "metadata": {
        "id": "9a7950d6",
        "outputId": "2e7fe571-24bc-4f94-b4b6-e652e2c468d3"
      },
      "outputs": [
        {
          "data": {
            "text/plain": [
              "{'max_depth': [2, 5, 10, 20], 'min_samples_leaf': [1, 20, 200]}"
            ]
          },
          "execution_count": 614,
          "metadata": {},
          "output_type": "execute_result"
        }
      ],
      "source": [
        "# Definição do grid\n",
        "grid_parametros = {'max_depth': [2, 5, 10, 20], 'min_samples_leaf': [1, 20, 200]}\n",
        "grid_parametros"
      ]
    },
    {
      "cell_type": "code",
      "execution_count": null,
      "id": "bb717707",
      "metadata": {
        "id": "bb717707",
        "outputId": "17655317-2233-4240-ae1a-364e211549f9"
      },
      "outputs": [
        {
          "data": {
            "text/plain": [
              "GridSearchCV(cv=15,\n",
              "             estimator=DecisionTreeClassifier(max_depth=5, random_state=420710),\n",
              "             param_grid={'max_depth': [2, 5, 10, 20],\n",
              "                         'min_samples_leaf': [1, 20, 200]})"
            ]
          },
          "execution_count": 615,
          "metadata": {},
          "output_type": "execute_result"
        }
      ],
      "source": [
        "# Importando um objeto da classe GridSearchCV\n",
        "grid = GridSearchCV(estimator = clf, param_grid = grid_parametros, cv = 15, verbose = 0)\n",
        "\n",
        "# Treinando todos os modelos do GridSearch, com a metodologia de cross validation indicada\n",
        "grid.fit(X_train, y_train)"
      ]
    },
    {
      "cell_type": "code",
      "execution_count": null,
      "id": "cb099ffa",
      "metadata": {
        "id": "cb099ffa",
        "outputId": "1c477882-7006-4b5e-fa35-8d734d35aed1"
      },
      "outputs": [
        {
          "data": {
            "text/html": [
              "<div>\n",
              "<style scoped>\n",
              "    .dataframe tbody tr th:only-of-type {\n",
              "        vertical-align: middle;\n",
              "    }\n",
              "\n",
              "    .dataframe tbody tr th {\n",
              "        vertical-align: top;\n",
              "    }\n",
              "\n",
              "    .dataframe thead th {\n",
              "        text-align: right;\n",
              "    }\n",
              "</style>\n",
              "<table border=\"1\" class=\"dataframe\">\n",
              "  <thead>\n",
              "    <tr style=\"text-align: right;\">\n",
              "      <th></th>\n",
              "      <th>mean_fit_time</th>\n",
              "      <th>std_fit_time</th>\n",
              "      <th>mean_score_time</th>\n",
              "      <th>std_score_time</th>\n",
              "      <th>param_max_depth</th>\n",
              "      <th>param_min_samples_leaf</th>\n",
              "      <th>params</th>\n",
              "      <th>split0_test_score</th>\n",
              "      <th>split1_test_score</th>\n",
              "      <th>split2_test_score</th>\n",
              "      <th>...</th>\n",
              "      <th>split8_test_score</th>\n",
              "      <th>split9_test_score</th>\n",
              "      <th>split10_test_score</th>\n",
              "      <th>split11_test_score</th>\n",
              "      <th>split12_test_score</th>\n",
              "      <th>split13_test_score</th>\n",
              "      <th>split14_test_score</th>\n",
              "      <th>mean_test_score</th>\n",
              "      <th>std_test_score</th>\n",
              "      <th>rank_test_score</th>\n",
              "    </tr>\n",
              "  </thead>\n",
              "  <tbody>\n",
              "    <tr>\n",
              "      <th>0</th>\n",
              "      <td>0.682152</td>\n",
              "      <td>0.091800</td>\n",
              "      <td>0.012333</td>\n",
              "      <td>0.003756</td>\n",
              "      <td>2</td>\n",
              "      <td>1</td>\n",
              "      <td>{'max_depth': 2, 'min_samples_leaf': 1}</td>\n",
              "      <td>0.956222</td>\n",
              "      <td>0.956222</td>\n",
              "      <td>0.956253</td>\n",
              "      <td>...</td>\n",
              "      <td>0.956221</td>\n",
              "      <td>0.956221</td>\n",
              "      <td>0.956221</td>\n",
              "      <td>0.956221</td>\n",
              "      <td>0.956221</td>\n",
              "      <td>0.956221</td>\n",
              "      <td>0.956221</td>\n",
              "      <td>0.956225</td>\n",
              "      <td>0.000011</td>\n",
              "      <td>1</td>\n",
              "    </tr>\n",
              "    <tr>\n",
              "      <th>1</th>\n",
              "      <td>0.794979</td>\n",
              "      <td>0.092776</td>\n",
              "      <td>0.014303</td>\n",
              "      <td>0.005126</td>\n",
              "      <td>2</td>\n",
              "      <td>20</td>\n",
              "      <td>{'max_depth': 2, 'min_samples_leaf': 20}</td>\n",
              "      <td>0.956222</td>\n",
              "      <td>0.956222</td>\n",
              "      <td>0.956253</td>\n",
              "      <td>...</td>\n",
              "      <td>0.956221</td>\n",
              "      <td>0.956221</td>\n",
              "      <td>0.956221</td>\n",
              "      <td>0.956221</td>\n",
              "      <td>0.956221</td>\n",
              "      <td>0.956221</td>\n",
              "      <td>0.956221</td>\n",
              "      <td>0.956225</td>\n",
              "      <td>0.000011</td>\n",
              "      <td>1</td>\n",
              "    </tr>\n",
              "    <tr>\n",
              "      <th>2</th>\n",
              "      <td>0.884099</td>\n",
              "      <td>0.069682</td>\n",
              "      <td>0.015431</td>\n",
              "      <td>0.004798</td>\n",
              "      <td>2</td>\n",
              "      <td>200</td>\n",
              "      <td>{'max_depth': 2, 'min_samples_leaf': 200}</td>\n",
              "      <td>0.956222</td>\n",
              "      <td>0.956222</td>\n",
              "      <td>0.956253</td>\n",
              "      <td>...</td>\n",
              "      <td>0.956221</td>\n",
              "      <td>0.956221</td>\n",
              "      <td>0.956221</td>\n",
              "      <td>0.956221</td>\n",
              "      <td>0.956221</td>\n",
              "      <td>0.956221</td>\n",
              "      <td>0.956221</td>\n",
              "      <td>0.956225</td>\n",
              "      <td>0.000011</td>\n",
              "      <td>1</td>\n",
              "    </tr>\n",
              "    <tr>\n",
              "      <th>3</th>\n",
              "      <td>1.990125</td>\n",
              "      <td>0.100605</td>\n",
              "      <td>0.015969</td>\n",
              "      <td>0.004584</td>\n",
              "      <td>5</td>\n",
              "      <td>1</td>\n",
              "      <td>{'max_depth': 5, 'min_samples_leaf': 1}</td>\n",
              "      <td>0.956222</td>\n",
              "      <td>0.956222</td>\n",
              "      <td>0.956253</td>\n",
              "      <td>...</td>\n",
              "      <td>0.956093</td>\n",
              "      <td>0.956221</td>\n",
              "      <td>0.956221</td>\n",
              "      <td>0.956189</td>\n",
              "      <td>0.956221</td>\n",
              "      <td>0.956221</td>\n",
              "      <td>0.956221</td>\n",
              "      <td>0.956185</td>\n",
              "      <td>0.000064</td>\n",
              "      <td>8</td>\n",
              "    </tr>\n",
              "    <tr>\n",
              "      <th>4</th>\n",
              "      <td>1.858023</td>\n",
              "      <td>0.178223</td>\n",
              "      <td>0.016235</td>\n",
              "      <td>0.003866</td>\n",
              "      <td>5</td>\n",
              "      <td>20</td>\n",
              "      <td>{'max_depth': 5, 'min_samples_leaf': 20}</td>\n",
              "      <td>0.956222</td>\n",
              "      <td>0.956222</td>\n",
              "      <td>0.956253</td>\n",
              "      <td>...</td>\n",
              "      <td>0.956093</td>\n",
              "      <td>0.956221</td>\n",
              "      <td>0.956221</td>\n",
              "      <td>0.956189</td>\n",
              "      <td>0.956221</td>\n",
              "      <td>0.956221</td>\n",
              "      <td>0.956221</td>\n",
              "      <td>0.956193</td>\n",
              "      <td>0.000057</td>\n",
              "      <td>7</td>\n",
              "    </tr>\n",
              "    <tr>\n",
              "      <th>5</th>\n",
              "      <td>1.569545</td>\n",
              "      <td>0.057751</td>\n",
              "      <td>0.013723</td>\n",
              "      <td>0.004488</td>\n",
              "      <td>5</td>\n",
              "      <td>200</td>\n",
              "      <td>{'max_depth': 5, 'min_samples_leaf': 200}</td>\n",
              "      <td>0.956222</td>\n",
              "      <td>0.956222</td>\n",
              "      <td>0.956253</td>\n",
              "      <td>...</td>\n",
              "      <td>0.956221</td>\n",
              "      <td>0.956221</td>\n",
              "      <td>0.956221</td>\n",
              "      <td>0.956221</td>\n",
              "      <td>0.956221</td>\n",
              "      <td>0.956221</td>\n",
              "      <td>0.956221</td>\n",
              "      <td>0.956225</td>\n",
              "      <td>0.000011</td>\n",
              "      <td>1</td>\n",
              "    </tr>\n",
              "    <tr>\n",
              "      <th>6</th>\n",
              "      <td>3.024104</td>\n",
              "      <td>0.258650</td>\n",
              "      <td>0.015350</td>\n",
              "      <td>0.006157</td>\n",
              "      <td>10</td>\n",
              "      <td>1</td>\n",
              "      <td>{'max_depth': 10, 'min_samples_leaf': 1}</td>\n",
              "      <td>0.956030</td>\n",
              "      <td>0.956030</td>\n",
              "      <td>0.955900</td>\n",
              "      <td>...</td>\n",
              "      <td>0.955932</td>\n",
              "      <td>0.955868</td>\n",
              "      <td>0.955932</td>\n",
              "      <td>0.955804</td>\n",
              "      <td>0.956028</td>\n",
              "      <td>0.956028</td>\n",
              "      <td>0.955996</td>\n",
              "      <td>0.955913</td>\n",
              "      <td>0.000089</td>\n",
              "      <td>11</td>\n",
              "    </tr>\n",
              "    <tr>\n",
              "      <th>7</th>\n",
              "      <td>3.567218</td>\n",
              "      <td>0.056480</td>\n",
              "      <td>0.021133</td>\n",
              "      <td>0.004441</td>\n",
              "      <td>10</td>\n",
              "      <td>20</td>\n",
              "      <td>{'max_depth': 10, 'min_samples_leaf': 20}</td>\n",
              "      <td>0.956350</td>\n",
              "      <td>0.956222</td>\n",
              "      <td>0.956285</td>\n",
              "      <td>...</td>\n",
              "      <td>0.956028</td>\n",
              "      <td>0.956285</td>\n",
              "      <td>0.956285</td>\n",
              "      <td>0.956125</td>\n",
              "      <td>0.956093</td>\n",
              "      <td>0.956189</td>\n",
              "      <td>0.955996</td>\n",
              "      <td>0.956148</td>\n",
              "      <td>0.000113</td>\n",
              "      <td>9</td>\n",
              "    </tr>\n",
              "    <tr>\n",
              "      <th>8</th>\n",
              "      <td>3.642876</td>\n",
              "      <td>0.162567</td>\n",
              "      <td>0.023339</td>\n",
              "      <td>0.004799</td>\n",
              "      <td>10</td>\n",
              "      <td>200</td>\n",
              "      <td>{'max_depth': 10, 'min_samples_leaf': 200}</td>\n",
              "      <td>0.956222</td>\n",
              "      <td>0.956222</td>\n",
              "      <td>0.956253</td>\n",
              "      <td>...</td>\n",
              "      <td>0.956221</td>\n",
              "      <td>0.956221</td>\n",
              "      <td>0.956221</td>\n",
              "      <td>0.956221</td>\n",
              "      <td>0.956221</td>\n",
              "      <td>0.956221</td>\n",
              "      <td>0.956221</td>\n",
              "      <td>0.956225</td>\n",
              "      <td>0.000011</td>\n",
              "      <td>1</td>\n",
              "    </tr>\n",
              "    <tr>\n",
              "      <th>9</th>\n",
              "      <td>6.165775</td>\n",
              "      <td>0.422587</td>\n",
              "      <td>0.028063</td>\n",
              "      <td>0.003589</td>\n",
              "      <td>20</td>\n",
              "      <td>1</td>\n",
              "      <td>{'max_depth': 20, 'min_samples_leaf': 1}</td>\n",
              "      <td>0.953210</td>\n",
              "      <td>0.952857</td>\n",
              "      <td>0.953144</td>\n",
              "      <td>...</td>\n",
              "      <td>0.953080</td>\n",
              "      <td>0.953593</td>\n",
              "      <td>0.953112</td>\n",
              "      <td>0.953176</td>\n",
              "      <td>0.952086</td>\n",
              "      <td>0.951926</td>\n",
              "      <td>0.952824</td>\n",
              "      <td>0.952779</td>\n",
              "      <td>0.000445</td>\n",
              "      <td>12</td>\n",
              "    </tr>\n",
              "    <tr>\n",
              "      <th>10</th>\n",
              "      <td>5.654094</td>\n",
              "      <td>0.105556</td>\n",
              "      <td>0.025889</td>\n",
              "      <td>0.003237</td>\n",
              "      <td>20</td>\n",
              "      <td>20</td>\n",
              "      <td>{'max_depth': 20, 'min_samples_leaf': 20}</td>\n",
              "      <td>0.956286</td>\n",
              "      <td>0.956158</td>\n",
              "      <td>0.956349</td>\n",
              "      <td>...</td>\n",
              "      <td>0.955996</td>\n",
              "      <td>0.956189</td>\n",
              "      <td>0.956221</td>\n",
              "      <td>0.956093</td>\n",
              "      <td>0.956093</td>\n",
              "      <td>0.956061</td>\n",
              "      <td>0.956028</td>\n",
              "      <td>0.956095</td>\n",
              "      <td>0.000136</td>\n",
              "      <td>10</td>\n",
              "    </tr>\n",
              "    <tr>\n",
              "      <th>11</th>\n",
              "      <td>4.602283</td>\n",
              "      <td>0.090267</td>\n",
              "      <td>0.021787</td>\n",
              "      <td>0.004283</td>\n",
              "      <td>20</td>\n",
              "      <td>200</td>\n",
              "      <td>{'max_depth': 20, 'min_samples_leaf': 200}</td>\n",
              "      <td>0.956222</td>\n",
              "      <td>0.956222</td>\n",
              "      <td>0.956253</td>\n",
              "      <td>...</td>\n",
              "      <td>0.956221</td>\n",
              "      <td>0.956221</td>\n",
              "      <td>0.956221</td>\n",
              "      <td>0.956221</td>\n",
              "      <td>0.956221</td>\n",
              "      <td>0.956221</td>\n",
              "      <td>0.956221</td>\n",
              "      <td>0.956225</td>\n",
              "      <td>0.000011</td>\n",
              "      <td>1</td>\n",
              "    </tr>\n",
              "  </tbody>\n",
              "</table>\n",
              "<p>12 rows × 25 columns</p>\n",
              "</div>"
            ],
            "text/plain": [
              "    mean_fit_time  std_fit_time  mean_score_time  std_score_time  \\\n",
              "0        0.682152      0.091800         0.012333        0.003756   \n",
              "1        0.794979      0.092776         0.014303        0.005126   \n",
              "2        0.884099      0.069682         0.015431        0.004798   \n",
              "3        1.990125      0.100605         0.015969        0.004584   \n",
              "4        1.858023      0.178223         0.016235        0.003866   \n",
              "5        1.569545      0.057751         0.013723        0.004488   \n",
              "6        3.024104      0.258650         0.015350        0.006157   \n",
              "7        3.567218      0.056480         0.021133        0.004441   \n",
              "8        3.642876      0.162567         0.023339        0.004799   \n",
              "9        6.165775      0.422587         0.028063        0.003589   \n",
              "10       5.654094      0.105556         0.025889        0.003237   \n",
              "11       4.602283      0.090267         0.021787        0.004283   \n",
              "\n",
              "   param_max_depth param_min_samples_leaf  \\\n",
              "0                2                      1   \n",
              "1                2                     20   \n",
              "2                2                    200   \n",
              "3                5                      1   \n",
              "4                5                     20   \n",
              "5                5                    200   \n",
              "6               10                      1   \n",
              "7               10                     20   \n",
              "8               10                    200   \n",
              "9               20                      1   \n",
              "10              20                     20   \n",
              "11              20                    200   \n",
              "\n",
              "                                        params  split0_test_score  \\\n",
              "0      {'max_depth': 2, 'min_samples_leaf': 1}           0.956222   \n",
              "1     {'max_depth': 2, 'min_samples_leaf': 20}           0.956222   \n",
              "2    {'max_depth': 2, 'min_samples_leaf': 200}           0.956222   \n",
              "3      {'max_depth': 5, 'min_samples_leaf': 1}           0.956222   \n",
              "4     {'max_depth': 5, 'min_samples_leaf': 20}           0.956222   \n",
              "5    {'max_depth': 5, 'min_samples_leaf': 200}           0.956222   \n",
              "6     {'max_depth': 10, 'min_samples_leaf': 1}           0.956030   \n",
              "7    {'max_depth': 10, 'min_samples_leaf': 20}           0.956350   \n",
              "8   {'max_depth': 10, 'min_samples_leaf': 200}           0.956222   \n",
              "9     {'max_depth': 20, 'min_samples_leaf': 1}           0.953210   \n",
              "10   {'max_depth': 20, 'min_samples_leaf': 20}           0.956286   \n",
              "11  {'max_depth': 20, 'min_samples_leaf': 200}           0.956222   \n",
              "\n",
              "    split1_test_score  split2_test_score  ...  split8_test_score  \\\n",
              "0            0.956222           0.956253  ...           0.956221   \n",
              "1            0.956222           0.956253  ...           0.956221   \n",
              "2            0.956222           0.956253  ...           0.956221   \n",
              "3            0.956222           0.956253  ...           0.956093   \n",
              "4            0.956222           0.956253  ...           0.956093   \n",
              "5            0.956222           0.956253  ...           0.956221   \n",
              "6            0.956030           0.955900  ...           0.955932   \n",
              "7            0.956222           0.956285  ...           0.956028   \n",
              "8            0.956222           0.956253  ...           0.956221   \n",
              "9            0.952857           0.953144  ...           0.953080   \n",
              "10           0.956158           0.956349  ...           0.955996   \n",
              "11           0.956222           0.956253  ...           0.956221   \n",
              "\n",
              "    split9_test_score  split10_test_score  split11_test_score  \\\n",
              "0            0.956221            0.956221            0.956221   \n",
              "1            0.956221            0.956221            0.956221   \n",
              "2            0.956221            0.956221            0.956221   \n",
              "3            0.956221            0.956221            0.956189   \n",
              "4            0.956221            0.956221            0.956189   \n",
              "5            0.956221            0.956221            0.956221   \n",
              "6            0.955868            0.955932            0.955804   \n",
              "7            0.956285            0.956285            0.956125   \n",
              "8            0.956221            0.956221            0.956221   \n",
              "9            0.953593            0.953112            0.953176   \n",
              "10           0.956189            0.956221            0.956093   \n",
              "11           0.956221            0.956221            0.956221   \n",
              "\n",
              "    split12_test_score  split13_test_score  split14_test_score  \\\n",
              "0             0.956221            0.956221            0.956221   \n",
              "1             0.956221            0.956221            0.956221   \n",
              "2             0.956221            0.956221            0.956221   \n",
              "3             0.956221            0.956221            0.956221   \n",
              "4             0.956221            0.956221            0.956221   \n",
              "5             0.956221            0.956221            0.956221   \n",
              "6             0.956028            0.956028            0.955996   \n",
              "7             0.956093            0.956189            0.955996   \n",
              "8             0.956221            0.956221            0.956221   \n",
              "9             0.952086            0.951926            0.952824   \n",
              "10            0.956093            0.956061            0.956028   \n",
              "11            0.956221            0.956221            0.956221   \n",
              "\n",
              "    mean_test_score  std_test_score  rank_test_score  \n",
              "0          0.956225        0.000011                1  \n",
              "1          0.956225        0.000011                1  \n",
              "2          0.956225        0.000011                1  \n",
              "3          0.956185        0.000064                8  \n",
              "4          0.956193        0.000057                7  \n",
              "5          0.956225        0.000011                1  \n",
              "6          0.955913        0.000089               11  \n",
              "7          0.956148        0.000113                9  \n",
              "8          0.956225        0.000011                1  \n",
              "9          0.952779        0.000445               12  \n",
              "10         0.956095        0.000136               10  \n",
              "11         0.956225        0.000011                1  \n",
              "\n",
              "[12 rows x 25 columns]"
            ]
          },
          "execution_count": 616,
          "metadata": {},
          "output_type": "execute_result"
        }
      ],
      "source": [
        "resultados = pd.DataFrame(grid.cv_results_)\n",
        "resultados"
      ]
    },
    {
      "cell_type": "code",
      "execution_count": null,
      "id": "4c6f0c8a",
      "metadata": {
        "id": "4c6f0c8a",
        "outputId": "09a40f40-1e1f-42a6-d129-d77e3d8298e4"
      },
      "outputs": [
        {
          "data": {
            "text/plain": [
              "0.9562252153829538"
            ]
          },
          "execution_count": 617,
          "metadata": {},
          "output_type": "execute_result"
        }
      ],
      "source": [
        "grid.best_score_"
      ]
    },
    {
      "cell_type": "code",
      "execution_count": null,
      "id": "cc697ec6",
      "metadata": {
        "id": "cc697ec6",
        "outputId": "c5e38674-fb2f-4345-d078-b3fb7da5038d"
      },
      "outputs": [
        {
          "data": {
            "text/plain": [
              "0"
            ]
          },
          "execution_count": 618,
          "metadata": {},
          "output_type": "execute_result"
        }
      ],
      "source": [
        "grid.best_index_"
      ]
    },
    {
      "cell_type": "code",
      "execution_count": null,
      "id": "c5a16fc5",
      "metadata": {
        "id": "c5a16fc5",
        "outputId": "bd0a0ee0-d23c-4ce3-b6b6-cfa24122b47e"
      },
      "outputs": [
        {
          "data": {
            "text/plain": [
              "RandomForestRegressor(random_state=42)"
            ]
          },
          "execution_count": 619,
          "metadata": {},
          "output_type": "execute_result"
        }
      ],
      "source": [
        "# Definindo um objeto da classe da RandomForest\n",
        "rf = RandomForestRegressor(n_estimators = 100, random_state = 42)\n",
        "\n",
        "# Método para 'treinar' o modelo\n",
        "rf.fit(X_train, y_train)"
      ]
    },
    {
      "cell_type": "code",
      "execution_count": null,
      "id": "6865ecbc",
      "metadata": {
        "id": "6865ecbc",
        "outputId": "cbb129a8-df89-44e3-c670-1adedf9766f1"
      },
      "outputs": [
        {
          "data": {
            "text/plain": [
              "array([0.01283333, 0.        , 0.        , ..., 0.02733333, 0.11600673,\n",
              "       0.        ])"
            ]
          },
          "execution_count": 620,
          "metadata": {},
          "output_type": "execute_result"
        }
      ],
      "source": [
        "rf.predict(X_test)"
      ]
    },
    {
      "cell_type": "code",
      "execution_count": null,
      "id": "f97d4627",
      "metadata": {
        "scrolled": true,
        "id": "f97d4627",
        "outputId": "f0b6193f-c1a2-4084-c9ec-4a1ff28f0965"
      },
      "outputs": [
        {
          "data": {
            "text/plain": [
              "0.6044949347388481"
            ]
          },
          "execution_count": 621,
          "metadata": {},
          "output_type": "execute_result"
        }
      ],
      "source": [
        "# Cálculo AUC (test)\n",
        "proba_test = rf.predict(X_test)\n",
        "fpr, tpr, thresholds = metrics.roc_curve(y_test, proba_test)\n",
        "metrics.auc(fpr, tpr)"
      ]
    }
  ],
  "metadata": {
    "kernelspec": {
      "display_name": "Python 3 (ipykernel)",
      "language": "python",
      "name": "python3"
    },
    "language_info": {
      "codemirror_mode": {
        "name": "ipython",
        "version": 3
      },
      "file_extension": ".py",
      "mimetype": "text/x-python",
      "name": "python",
      "nbconvert_exporter": "python",
      "pygments_lexer": "ipython3",
      "version": "3.9.12"
    },
    "colab": {
      "provenance": [],
      "include_colab_link": true
    }
  },
  "nbformat": 4,
  "nbformat_minor": 5
}